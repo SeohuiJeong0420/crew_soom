{
 "cells": [
  {
   "cell_type": "code",
   "execution_count": 2,
   "id": "745d7b83",
   "metadata": {
    "scrolled": true
   },
   "outputs": [
    {
     "name": "stdout",
     "output_type": "stream",
     "text": [
      "\n",
      "📥 2025-07-14 16:36:11 - 특보 수집 시작\n",
      "❌ 20250708 수집 실패: Expecting value: line 1 column 1 (char 0)\n",
      "📆 20250709 - 0건 수집됨\n",
      "📆 20250710 - 0건 수집됨\n",
      "📆 20250711 - 0건 수집됨\n",
      "📆 20250712 - 0건 수집됨\n",
      "📆 20250713 - 0건 수집됨\n",
      "📆 20250714 - 0건 수집됨\n",
      "⚠️ 수집된 특보가 없습니다.\n"
     ]
    }
   ],
   "source": [
    "import os\n",
    "import time\n",
    "import datetime\n",
    "import requests\n",
    "import pandas as pd\n",
    "import schedule\n",
    "from dotenv import load_dotenv\n",
    "\n",
    "# 1. 환경 변수에서 API 키 로딩\n",
    "load_dotenv('.env')\n",
    "SERVICE_KEY = os.getenv(\"OPENWEATHER_API_KEY\")\n",
    "\n",
    "# 2. 설정값\n",
    "API_URL = \"http://apis.data.go.kr/1360000/WthrWrnInfoService/getWthrWrnList\"\n",
    "ALERT_CSV = \"weather_alerts_seoul.csv\"\n",
    "REGION_CODE = \"11B10101\"\n",
    "\n",
    "# 3. 기존 특보 불러오기\n",
    "def load_existing_alerts():\n",
    "    if os.path.exists(ALERT_CSV):\n",
    "        return pd.read_csv(ALERT_CSV)\n",
    "    else:\n",
    "        return pd.DataFrame()\n",
    "\n",
    "# 4. 특보 수집\n",
    "def fetch_alerts():\n",
    "    all_alerts = []\n",
    "\n",
    "    # 오늘 날짜\n",
    "    today = datetime.datetime.now()\n",
    "    \n",
    "    # 6일 전부터 오늘까지 반복\n",
    "    for i in range(6, -1, -1):  # 6,5,4,...,0\n",
    "        target_date = (today - datetime.timedelta(days=i)).strftime(\"%Y%m%d\") + \"0000\"\n",
    "        \n",
    "        params = {\n",
    "            \"serviceKey\": SERVICE_KEY,\n",
    "            \"pageNo\": \"1\",\n",
    "            \"numOfRows\": \"100\",\n",
    "            \"dataType\": \"JSON\",\n",
    "            \"areaCode\": REGION_CODE,\n",
    "            \"fromTmFc\": target_date\n",
    "        }\n",
    "\n",
    "        try:\n",
    "            response = requests.get(API_URL, params=params)\n",
    "            response.raise_for_status()\n",
    "            data = response.json()\n",
    "            items = data.get('response', {}).get('body', {}).get('items', [])\n",
    "            print(f\"📆 {target_date[:8]} - {len(items)}건 수집됨\")\n",
    "            all_alerts.extend(items)\n",
    "        except Exception as e:\n",
    "            print(f\"❌ {target_date[:8]} 수집 실패: {e}\")\n",
    "\n",
    "    return all_alerts\n",
    "\n",
    "\n",
    "\n",
    "# 5. 새 특보만 저장\n",
    "def save_incremental_alerts(alerts):\n",
    "    if not alerts:\n",
    "        print(\"⚠️ 수집된 특보가 없습니다.\")\n",
    "        return\n",
    "\n",
    "    df_new = pd.DataFrame(alerts)\n",
    "    useful_cols = ['stnId', 'areaCode', 'areaNm', 'warnVar', 'warnSt', 'warnStress', 'tmFc', 'tmEf', 'warnMsg']\n",
    "    df_new = df_new[[col for col in useful_cols if col in df_new.columns]]\n",
    "    df_new['collect_date'] = datetime.datetime.now().strftime(\"%Y-%m-%d\")\n",
    "\n",
    "    df_old = load_existing_alerts()\n",
    "\n",
    "    if not df_old.empty and all(col in df_old.columns for col in ['tmFc', 'warnVar', 'warnStress', 'areaNm']):\n",
    "        merge_keys = ['tmFc', 'warnVar', 'warnStress', 'areaNm']\n",
    "        df_merge = pd.merge(df_new, df_old, on=merge_keys, how='left', indicator=True)\n",
    "        df_filtered = df_merge[df_merge['_merge'] == 'left_only'][df_new.columns]\n",
    "        print(f\"🆕 새로운 특보 {len(df_filtered)}건 저장됨\")\n",
    "    else:\n",
    "        df_filtered = df_new\n",
    "        print(f\"📦 기존 데이터가 없거나 병합 키 없음 → 전체 {len(df_filtered)}건 저장\")\n",
    "\n",
    "    if not df_filtered.empty:\n",
    "        write_header = not os.path.exists(ALERT_CSV)\n",
    "        df_filtered.to_csv(ALERT_CSV, mode='a', header=write_header, index=False)\n",
    "    else:\n",
    "        print(\"✔️ 새로운 특보 없음 (모두 중복)\")\n",
    "\n",
    "    print(f\"✅ {datetime.datetime.now().strftime('%Y-%m-%d')} 저장 완료\")\n",
    "\n",
    "\n",
    "# 6. 주기적 실행 함수\n",
    "def job():\n",
    "    print(f\"\\n📥 {datetime.datetime.now().strftime('%Y-%m-%d %H:%M:%S')} - 특보 수집 시작\")\n",
    "    alerts = fetch_alerts()\n",
    "    save_incremental_alerts(alerts)\n",
    "\n",
    "# 7. 최초 실행 + 1시간마다 반복 실행\n",
    "job()"
   ]
  },
  {
   "cell_type": "code",
   "execution_count": null,
   "id": "f37ac210",
   "metadata": {},
   "outputs": [],
   "source": []
  },
  {
   "cell_type": "code",
   "execution_count": null,
   "id": "eb0cd230",
   "metadata": {},
   "outputs": [],
   "source": []
  },
  {
   "cell_type": "code",
   "execution_count": null,
   "id": "5bd83a13",
   "metadata": {},
   "outputs": [],
   "source": []
  },
  {
   "cell_type": "code",
   "execution_count": null,
   "id": "0169d012",
   "metadata": {},
   "outputs": [],
   "source": []
  },
  {
   "cell_type": "code",
   "execution_count": null,
   "id": "4642000e",
   "metadata": {},
   "outputs": [],
   "source": []
  },
  {
   "cell_type": "code",
   "execution_count": null,
   "id": "e276ffa2",
   "metadata": {},
   "outputs": [],
   "source": []
  },
  {
   "cell_type": "code",
   "execution_count": null,
   "id": "3677b2bb",
   "metadata": {},
   "outputs": [],
   "source": []
  },
  {
   "cell_type": "code",
   "execution_count": null,
   "id": "bddd86d7",
   "metadata": {},
   "outputs": [],
   "source": []
  },
  {
   "cell_type": "code",
   "execution_count": null,
   "id": "b598c5fd",
   "metadata": {},
   "outputs": [],
   "source": []
  },
  {
   "cell_type": "code",
   "execution_count": null,
   "id": "d3cd6314",
   "metadata": {},
   "outputs": [],
   "source": []
  },
  {
   "cell_type": "code",
   "execution_count": null,
   "id": "ee2c37f2",
   "metadata": {},
   "outputs": [],
   "source": []
  },
  {
   "cell_type": "code",
   "execution_count": null,
   "id": "d1938ddf",
   "metadata": {},
   "outputs": [],
   "source": []
  },
  {
   "cell_type": "code",
   "execution_count": null,
   "id": "011417b2",
   "metadata": {},
   "outputs": [],
   "source": []
  },
  {
   "cell_type": "code",
   "execution_count": null,
   "id": "7b9ab949",
   "metadata": {},
   "outputs": [],
   "source": []
  },
  {
   "cell_type": "code",
   "execution_count": null,
   "id": "bab1a20b",
   "metadata": {},
   "outputs": [],
   "source": []
  }
 ],
 "metadata": {
  "kernelspec": {
   "display_name": "ml-dl-nlp",
   "language": "python",
   "name": "ml-dl-nlp"
  },
  "language_info": {
   "codemirror_mode": {
    "name": "ipython",
    "version": 3
   },
   "file_extension": ".py",
   "mimetype": "text/x-python",
   "name": "python",
   "nbconvert_exporter": "python",
   "pygments_lexer": "ipython3",
   "version": "3.10.18"
  },
  "toc": {
   "base_numbering": 1,
   "nav_menu": {},
   "number_sections": false,
   "sideBar": true,
   "skip_h1_title": false,
   "title_cell": "Table of Contents",
   "title_sidebar": "Contents",
   "toc_cell": false,
   "toc_position": {},
   "toc_section_display": true,
   "toc_window_display": false
  }
 },
 "nbformat": 4,
 "nbformat_minor": 5
}
