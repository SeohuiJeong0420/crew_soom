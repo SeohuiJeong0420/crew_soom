{
 "cells": [
  {
   "cell_type": "markdown",
   "id": "143318db",
   "metadata": {},
   "source": [
    "# 1. api key활용 및 데이터 수집"
   ]
  },
  {
   "cell_type": "code",
   "execution_count": 1,
   "id": "e80597e5",
   "metadata": {},
   "outputs": [],
   "source": [
    "import os\n",
    "from dotenv import load_dotenv\n"
   ]
  },
  {
   "cell_type": "code",
   "execution_count": 2,
   "id": "35957da5",
   "metadata": {},
   "outputs": [
    {
     "name": "stdout",
     "output_type": "stream",
     "text": [
      "prE5nprnhB9u6l+sEZ7eyTE1s3G8HsLeMqpdV9c4RhUAGp03obu1bxAzYTcnbg4x2+4y8NbOTC0Yw5S0Y4hGIA==\n"
     ]
    }
   ],
   "source": [
    "OPENWEATHER_API_KEY = load_dotenv('.env') #.env불러오기\n",
    "OPENWEATHER_API_KEY = os.getenv('OPENWEATHER_API_KEY') #.env에서 api키(OPENWEATHER_API_KEY)불러오기\n",
    "print(OPENWEATHER_API_KEY)"
   ]
  },
  {
   "cell_type": "markdown",
   "id": "57c2fe38",
   "metadata": {},
   "source": [
    "# ASOS 시간별 데이터 자료 수집"
   ]
  },
  {
   "cell_type": "code",
   "execution_count": 6,
   "id": "00c19970",
   "metadata": {},
   "outputs": [],
   "source": [
    "import os\n",
    "import time\n",
    "import requests\n",
    "import pandas as pd\n",
    "from datetime import date, timedelta"
   ]
  },
  {
   "cell_type": "code",
   "execution_count": 9,
   "id": "cd5b3c84",
   "metadata": {},
   "outputs": [],
   "source": [
    "#사용자 설정\n",
    "SERVICE_KEY = OPENWEATHER_API_KEY\n",
    "CSV_FILE = 'RandomForest/asos_seoul_hourly.csv' # 수집된 데이터를 저장할 CSV 파일명\n",
    "STN_ID = 108 #서울 지역의 지점 코드\n",
    "NUM_OF_ROWS = 800 #페이지당 수집할 데이터 갯수\n",
    "API_URL = \"http://apis.data.go.kr/1360000/AsosHourlyInfoService/getWthrDataList\" #기상청 ASOS API URL(오픈API활용가이드 4page)"
   ]
  },
  {
   "cell_type": "code",
   "execution_count": 10,
   "id": "23d9deb0",
   "metadata": {},
   "outputs": [],
   "source": [
    "# 데이터 수집 기간\n",
    "START_DATE = date(2020, 7, 10)\n",
    "END_DATE = date.today()-timedelta(days=1) #timedelta(days=1) → 1일의 시간 간격 / 오늘 날짜에서 하루를 뺀 어제 날짜"
   ]
  },
  {
   "cell_type": "code",
   "execution_count": 11,
   "id": "d89b4bdd",
   "metadata": {},
   "outputs": [],
   "source": [
    "def load_existing_times(): # CSV_FILE데이터를 불러와서 중복 체크를 위한 set으로 반환하는 함수\n",
    "    if not os.path.exists(CSV_FILE): #CSV_FILE path가 존재하지 않을 때\n",
    "        return set() #빈 set반환\n",
    "    df = pd.read_csv(CSV_FILE)\n",
    "    return set(df['tm'].astype(str)) #df의 'tm'(시간)컬럼의 데이터를 문자열로 변환한 set반환(중복제거)"
   ]
  },
  {
   "cell_type": "code",
   "execution_count": null,
   "id": "1402e5da",
   "metadata": {},
   "outputs": [],
   "source": [
    "def fetch_day_date(date_obj, existing_times): #지정된 하루치(00~23시) 데이터를 수집하는 함수\n",
    "    all_result = []\n",
    "    "
   ]
  }
 ],
 "metadata": {
  "kernelspec": {
   "display_name": "ml-dl-nlp",
   "language": "python",
   "name": "ml-dl-nlp"
  },
  "language_info": {
   "codemirror_mode": {
    "name": "ipython",
    "version": 3
   },
   "file_extension": ".py",
   "mimetype": "text/x-python",
   "name": "python",
   "nbconvert_exporter": "python",
   "pygments_lexer": "ipython3",
   "version": "3.10.18"
  }
 },
 "nbformat": 4,
 "nbformat_minor": 5
}
