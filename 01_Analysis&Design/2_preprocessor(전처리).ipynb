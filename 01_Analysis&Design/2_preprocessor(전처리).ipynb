{
 "cells": [
  {
   "cell_type": "code",
   "execution_count": 1,
   "id": "fb34eb07",
   "metadata": {},
   "outputs": [
    {
     "data": {
      "text/html": [
       "\n",
       "<style>\n",
       "div.container{width:86% !important;}\n",
       "div.cell.code_cell.rendered{width:100%;}\n",
       "div.CodeMirror {font-family:Consolas; font-size:15pt;}\n",
       "div.output {font-size:15pt; font-weight:bold;}\n",
       "div.input {font-family:Consolas; font-size:15pt;}\n",
       "div.prompt {min-width:70px;}\n",
       "div#toc-wrapper{padding-top:120px;}\n",
       "div.text_cell_render ul li{font-size:12pt;padding:5px;}\n",
       "table.dataframe{font-size:15px;}\n",
       "</style>\n"
      ],
      "text/plain": [
       "<IPython.core.display.HTML object>"
      ]
     },
     "metadata": {},
     "output_type": "display_data"
    }
   ],
   "source": [
    "from IPython.display import display, HTML\n",
    "display(HTML(\"\"\"\n",
    "<style>\n",
    "div.container{width:86% !important;}\n",
    "div.cell.code_cell.rendered{width:100%;}\n",
    "div.CodeMirror {font-family:Consolas; font-size:15pt;}\n",
    "div.output {font-size:15pt; font-weight:bold;}\n",
    "div.input {font-family:Consolas; font-size:15pt;}\n",
    "div.prompt {min-width:70px;}\n",
    "div#toc-wrapper{padding-top:120px;}\n",
    "div.text_cell_render ul li{font-size:12pt;padding:5px;}\n",
    "table.dataframe{font-size:15px;}\n",
    "</style>\n",
    "\"\"\"))"
   ]
  },
  {
   "cell_type": "code",
   "execution_count": 10,
   "id": "984f21c6",
   "metadata": {},
   "outputs": [
    {
     "data": {
      "text/plain": [
       "Index(['id', 'year', 'month', 'day', 'obs_date', 'season_type', 'avg_temp',\n",
       "       'min_temp', 'max_temp', 'humidity', 'precipitation', 'wind_speed',\n",
       "       'is_flood_risk', 'created_at', 'actual_flood', 'is_peak_rainy',\n",
       "       'is_typhoon_season', 'is_early_rainy', 'precip_risk_level',\n",
       "       'precip_ma3', 'humidity_ma3', 'precip_ma7', 'humidity_ma7',\n",
       "       'rain_days_cumsum', 'data_quality_score', 'warning_risk_factor',\n",
       "       'active_warnings', 'pressure', 'api_sources'],\n",
       "      dtype='object')"
      ]
     },
     "execution_count": 10,
     "metadata": {},
     "output_type": "execute_result"
    }
   ],
   "source": [
    "import pandas as pd\n",
    "import numpy as np\n",
    "from sklearn.preprocessing import StandardScaler\n",
    "df.columns"
   ]
  },
  {
   "cell_type": "code",
   "execution_count": 4,
   "id": "e8fa9de0",
   "metadata": {},
   "outputs": [],
   "source": [
    "df = pd.read_csv('C:/Project1/CREW_SOOM/data/raw/ML_COMPLETE_DATASET.csv')\n",
    "\n",
    "#ML_COMPLETE_DATASET데이터셋의 컬럼들 중 필요한 12개 컬럼만 선택\n",
    "feature_columns = [\n",
    "    'precipitation', 'humidity', 'avg_temp', 'wind_speed',\n",
    "            'month', 'is_peak_rainy', 'is_typhoon_season', \n",
    "            'precip_ma3', 'precip_ma7', 'rain_days_cumsum',\n",
    "            'precip_risk_level', 'actual_flood'\n",
    "]\n",
    "\n",
    "#feature_columns 중 데이터에 존재하는 컬럼들만 선택\n",
    "available_features = [col for col in feature_columns if col in df.columns]\n",
    "\n",
    "#precipitation(강수량)은 홍수 예측에 필수\n",
    "if 'precipitation' not in df.columns:\n",
    "    print(\"❌ 기본 특성이 없습니다. 원본 데이터를 확인하세요.\")"
   ]
  },
  {
   "cell_type": "code",
   "execution_count": 19,
   "id": "03e1c86d",
   "metadata": {},
   "outputs": [],
   "source": [
    "if 'is_flood_risk' in df.columns: #df에 is_flood_risk컬럼이 있을 경우 타겟으로 지정\n",
    "    target_col = 'is_flood_risk'\n",
    "else:\n",
    "    #없을 경우 precipitation(강수량)이 50이상일 때를 타겟으로 지정하고 타입을 int로 변경\n",
    "    df['is_flood_risk'] = (df['precipitation'] >= 50).astype(int) \n",
    "    target_col = 'is_flood_risk'"
   ]
  },
  {
   "cell_type": "code",
   "execution_count": 20,
   "id": "598d4d70",
   "metadata": {},
   "outputs": [
    {
     "name": "stdout",
     "output_type": "stream",
     "text": [
      "is_flood_risk\n"
     ]
    }
   ],
   "source": [
    "if 'month' not in df.columns and 'obs_date' in df.columns: #df에 obs_data컬럼은 있는데 month컬럼은 없을 경우\n",
    "    df['month'] = pd.to_datetime(df['obs_date']).dt.month #obs_date를 datetime타입으로 변환 후 월만 추출\n",
    "    \n",
    "if 'is_peak_rainy' not in df.columns and 'month' in df.columns: #df에 month는 있는데 is_peak_rainy컬럼은 없을 경우\n",
    "    df['is_peak_rainy'] = (df['month'].isin([6, 7])).astype(int) #df 'month'컬럼에 6, 7월이 있는지 확인하고 확인 여부를 int로 형변환\n",
    "    "
   ]
  },
  {
   "cell_type": "code",
   "execution_count": 22,
   "id": "9d1e40de",
   "metadata": {},
   "outputs": [
    {
     "data": {
      "text/plain": [
       "0      0\n",
       "1      0\n",
       "2      0\n",
       "3      0\n",
       "4      0\n",
       "      ..\n",
       "928    1\n",
       "929    1\n",
       "930    1\n",
       "931    1\n",
       "932    1\n",
       "Name: month, Length: 933, dtype: int32"
      ]
     },
     "execution_count": 22,
     "metadata": {},
     "output_type": "execute_result"
    }
   ],
   "source": [
    "(df['month'].isin([6, 7])).astype(int)"
   ]
  },
  {
   "cell_type": "code",
   "execution_count": 25,
   "id": "b0e7ca59",
   "metadata": {},
   "outputs": [
    {
     "data": {
      "text/plain": [
       "<bound method IndexOpsMixin.value_counts of 0        dry\n",
       "1        dry\n",
       "2        dry\n",
       "3        dry\n",
       "4        dry\n",
       "       ...  \n",
       "928    rainy\n",
       "929    rainy\n",
       "930    rainy\n",
       "931    rainy\n",
       "932    rainy\n",
       "Name: season_type, Length: 933, dtype: object>"
      ]
     },
     "execution_count": 25,
     "metadata": {},
     "output_type": "execute_result"
    }
   ],
   "source": [
    "df['season_type'].value_counts"
   ]
  },
  {
   "cell_type": "code",
   "execution_count": 37,
   "id": "74df69e7",
   "metadata": {},
   "outputs": [
    {
     "name": "stdout",
     "output_type": "stream",
     "text": [
      "     precipitation  humidity  avg_temp  wind_speed  month  is_peak_rainy  \\\n",
      "0              0.0      46.3      -4.3         1.5      1              0   \n",
      "1              0.3      57.9      -1.3         2.3      1              0   \n",
      "2              0.0      58.3      -1.9         1.8      1              0   \n",
      "3              0.0      51.8      -2.5         2.4      1              0   \n",
      "4              0.0      47.6      -2.8         1.7      1              0   \n",
      "..             ...       ...       ...         ...    ...            ...   \n",
      "928            8.0      88.9      20.9         2.5      6              1   \n",
      "929            1.1      85.3      22.2         1.7      6              1   \n",
      "930            0.0      78.1      25.0         1.4      6              1   \n",
      "931            0.6      85.0      26.2         1.4      6              1   \n",
      "932            0.0      77.1      27.1         2.3      6              1   \n",
      "\n",
      "     is_typhoon_season  precip_ma3  precip_ma7  rain_days_cumsum  \\\n",
      "0                    0    0.000000    0.000000                 0   \n",
      "1                    0    0.150000    0.150000                 0   \n",
      "2                    0    0.100000    0.100000                 0   \n",
      "3                    0    0.100000    0.075000                 0   \n",
      "4                    0    0.000000    0.060000                 0   \n",
      "..                 ...         ...         ...               ...   \n",
      "928                  0    3.433333    8.914286                 2   \n",
      "929                  0    3.800000    8.957143                 3   \n",
      "930                  0    3.033333    1.657143                 0   \n",
      "931                  0    0.566667    1.714286                 0   \n",
      "932                  0    0.200000    1.714286                 0   \n",
      "\n",
      "     precip_risk_level  \n",
      "0                    0  \n",
      "1                    0  \n",
      "2                    0  \n",
      "3                    0  \n",
      "4                    0  \n",
      "..                 ...  \n",
      "928                  0  \n",
      "929                  0  \n",
      "930                  0  \n",
      "931                  0  \n",
      "932                  0  \n",
      "\n",
      "[933 rows x 11 columns] 0      0\n",
      "1      0\n",
      "2      0\n",
      "3      0\n",
      "4      0\n",
      "      ..\n",
      "928    0\n",
      "929    0\n",
      "930    0\n",
      "931    0\n",
      "932    0\n",
      "Name: is_flood_risk, Length: 933, dtype: int64\n"
     ]
    },
    {
     "data": {
      "text/plain": [
       "pandas.core.frame.DataFrame"
      ]
     },
     "execution_count": 37,
     "metadata": {},
     "output_type": "execute_result"
    }
   ],
   "source": [
    "#최종 컬럼 선택\n",
    "final_features = [col for col in available_features if col!='actual_flood']\n",
    "#available_features중 'actual_flood'컬럼 제외 모두 final_features에 넣기\n",
    "final_features = [col for col in final_features if col in df.columns]\n",
    "#final_features컬럼 중 df컬럼에 있는 컬럼들로 업데이트\n",
    "\n",
    "X = df[final_features] #X는 final_features를 컬럼으로 하는 데이터프레임\n",
    "y = df[target_col] #y는 target_col을 컬럼으로 하는 데이터프레임\n",
    "print(X, y)\n",
    "type(X)"
   ]
  },
  {
   "cell_type": "code",
   "execution_count": 40,
   "id": "ca1e5fa9",
   "metadata": {},
   "outputs": [
    {
     "name": "stdout",
     "output_type": "stream",
     "text": [
      "<class 'pandas.core.frame.DataFrame'>\n",
      "RangeIndex: 933 entries, 0 to 932\n",
      "Data columns (total 11 columns):\n",
      " #   Column             Non-Null Count  Dtype  \n",
      "---  ------             --------------  -----  \n",
      " 0   precipitation      933 non-null    float64\n",
      " 1   humidity           933 non-null    float64\n",
      " 2   avg_temp           933 non-null    float64\n",
      " 3   wind_speed         931 non-null    float64\n",
      " 4   month              933 non-null    int64  \n",
      " 5   is_peak_rainy      933 non-null    int64  \n",
      " 6   is_typhoon_season  933 non-null    int64  \n",
      " 7   precip_ma3         933 non-null    float64\n",
      " 8   precip_ma7         933 non-null    float64\n",
      " 9   rain_days_cumsum   933 non-null    int64  \n",
      " 10  precip_risk_level  933 non-null    int64  \n",
      "dtypes: float64(6), int64(5)\n",
      "memory usage: 80.3 KB\n"
     ]
    }
   ],
   "source": [
    "X.info() #wind_speed에 결측치 존재"
   ]
  },
  {
   "cell_type": "code",
   "execution_count": 41,
   "id": "6199237d",
   "metadata": {},
   "outputs": [],
   "source": [
    "X = X.fillna(X.median()) #중앙값으로 결측치 처리"
   ]
  },
  {
   "cell_type": "code",
   "execution_count": 43,
   "id": "46104445",
   "metadata": {},
   "outputs": [
    {
     "name": "stdout",
     "output_type": "stream",
     "text": [
      "✅ 특성 준비 완료:\n",
      "   - 특성 수: 11\n",
      "   - 샘플 수: 933\n",
      "   - 양성 비율: 2.5%\n"
     ]
    }
   ],
   "source": [
    "print(f\"✅ 특성 준비 완료:\")\n",
    "print(f\"   - 특성 수: {len(final_features)}\")\n",
    "print(f\"   - 샘플 수: {len(X)}\")\n",
    "print(f\"   - 양성 비율: {y.mean()*100:.1f}%\")"
   ]
  },
  {
   "cell_type": "markdown",
   "id": "e68981a9",
   "metadata": {},
   "source": [
    "# 데이터 전처리 클래스"
   ]
  },
  {
   "cell_type": "code",
   "execution_count": null,
   "id": "6a15b4bf",
   "metadata": {},
   "outputs": [],
   "source": [
    "class DataPreprocessor:\n",
    "    def __init__(self): #생성자함수(클래스 호출 시 자동실행)\n",
    "        self.scaler = StandardScaler() #평균0, 표준편차1로 정규화\n",
    "        \n",
    "    def prepare_features(self, df):\n",
    "        \"\"\"특성 준비 (기존 ML_COMPLETE_DATASET 활용)\"\"\"\n",
    "        #필요한 특성만 선택\n",
    "        feature_columns = [\n",
    "            'precipitation', 'humidity', 'avg_temp', 'wind_speed',\n",
    "            'month', 'is_peak_rainy', 'is_typhoon_season', \n",
    "            'precip_ma3', 'precip_ma7', 'rain_days_cumsum',\n",
    "            'precip_risk_level', 'actual_flood'\n",
    "        ]\n",
    "        \n",
    "        #이중 df에 실제로 존재하는 컬럼만 가져오기\n",
    "        available_features = [col for col in feature_columns if col in df.columns]\n",
    "        \n",
    "        #침수 위험 예측에 필수적인 강수량(precipitation)이 없으면 경고\n",
    "        if 'precipitation' is not in df.columns:\n",
    "            print(\"❌ 기본 특성이 없습니다. 원본 데이터를 확인하세요.\")\n",
    "            return None, None, None #X, y, final_features 모두 반환X\n",
    "        \n",
    "        if 'is_flood_risk' in df.columns: # 침수 위험 컬럼이 있으면 타겟 컬럼으로 지정\n",
    "            target_col = 'is_flood_risk'\n",
    "        else: #없으면 50mm이상을 침수 위험이라 지정하고 정수로 형변환 후 타겟 컬럼으로 지정\n",
    "            df['is_flood_risk'] = (df['precipitation']>=50).astype(int) \n",
    "        \n",
    "        #필수 특성(월 컬럼)이 없는 경우 생성\n",
    "        if 'month' not in df.columns:\n",
    "            df['month'] = pd.to_datetime(df['obs_date']).dt.month #obs_data를 datetime타입으로 바꿔서 월만 뽑은 후 month컬럼에 넣기\n",
    "            \n",
    "        if 'is_peak_rainy' is not in df.columns and 'month' in df.columns: #month가 있고, 비가 많이 오는날 컬럼이 없을 때\n",
    "            df['is_peak_rainy'] = (df['month'].isin([6,7])).astype(int) #6, 7월을 peak_rainy로 지정하고 int로 형변환\n",
    "        \n",
    "        #최종 특성 선택\n",
    "        final_features = [col for col in available_features if col !='actual_flood'] #컬럼이 실제 홍수 발생 여부가 아니면 최종 특성에 추가\n",
    "        final_features = [col for col in final_features if col in df.columns]\n",
    "        \n",
    "        X = df[final_features] #X=df의 최종 특성\n",
    "        y = df[target_col] #y=df의 타겟 컬럼 데이터(is_flood_risk)\n",
    "        \n",
    "        #결측치를 중앙값으로 처리\n",
    "        X = X.fillna(X.median)\n",
    "        #y는 결측치 없음\n",
    "        \n",
    "        print(f\"✅ 특성 준비 완료:\")\n",
    "        print(f\"   - 특성 수: {len(final_features)}\")\n",
    "        print(f\"   - 샘플 수: {len(X)}\")\n",
    "        print(f\"   - 양성 비율: {y.mean()*100:.1f}%\")\n",
    "        \n",
    "        return X, y, final_features"
   ]
  }
 ],
 "metadata": {
  "kernelspec": {
   "display_name": "ml-dl-nlp",
   "language": "python",
   "name": "ml-dl-nlp"
  },
  "language_info": {
   "codemirror_mode": {
    "name": "ipython",
    "version": 3
   },
   "file_extension": ".py",
   "mimetype": "text/x-python",
   "name": "python",
   "nbconvert_exporter": "python",
   "pygments_lexer": "ipython3",
   "version": "3.10.18"
  },
  "toc": {
   "base_numbering": 1,
   "nav_menu": {},
   "number_sections": false,
   "sideBar": true,
   "skip_h1_title": false,
   "title_cell": "Table of Contents",
   "title_sidebar": "Contents",
   "toc_cell": false,
   "toc_position": {},
   "toc_section_display": true,
   "toc_window_display": false
  }
 },
 "nbformat": 4,
 "nbformat_minor": 5
}
