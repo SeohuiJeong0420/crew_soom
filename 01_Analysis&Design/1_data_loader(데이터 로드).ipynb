{
 "cells": [
  {
   "cell_type": "code",
   "execution_count": 12,
   "id": "46450b08",
   "metadata": {},
   "outputs": [
    {
     "data": {
      "text/html": [
       "\n",
       "<style>\n",
       "div.container{width:86% !important;}\n",
       "div.cell.code_cell.rendered{width:100%;}\n",
       "div.CodeMirror {font-family:Consolas; font-size:15pt;}\n",
       "div.output {font-size:15pt; font-weight:bold;}\n",
       "div.input {font-family:Consolas; font-size:15pt;}\n",
       "div.prompt {min-width:70px;}\n",
       "div#toc-wrapper{padding-top:120px;}\n",
       "div.text_cell_render ul li{font-size:12pt;padding:5px;}\n",
       "table.dataframe{font-size:15px;}\n",
       "</style>\n"
      ],
      "text/plain": [
       "<IPython.core.display.HTML object>"
      ]
     },
     "metadata": {},
     "output_type": "display_data"
    }
   ],
   "source": [
    "from IPython.display import display, HTML\n",
    "display(HTML(\"\"\"\n",
    "<style>\n",
    "div.container{width:86% !important;}\n",
    "div.cell.code_cell.rendered{width:100%;}\n",
    "div.CodeMirror {font-family:Consolas; font-size:15pt;}\n",
    "div.output {font-size:15pt; font-weight:bold;}\n",
    "div.input {font-family:Consolas; font-size:15pt;}\n",
    "div.prompt {min-width:70px;}\n",
    "div#toc-wrapper{padding-top:120px;}\n",
    "div.text_cell_render ul li{font-size:12pt;padding:5px;}\n",
    "table.dataframe{font-size:15px;}\n",
    "</style>\n",
    "\"\"\"))"
   ]
  },
  {
   "cell_type": "code",
   "execution_count": 24,
   "id": "933114c6",
   "metadata": {},
   "outputs": [],
   "source": [
    "import pandas as pd\n",
    "import os"
   ]
  },
  {
   "cell_type": "code",
   "execution_count": 23,
   "id": "98b32f48",
   "metadata": {},
   "outputs": [
    {
     "name": "stdout",
     "output_type": "stream",
     "text": [
      "데이터 로드 완료\n"
     ]
    }
   ],
   "source": [
    "# ML_COMPLETE_DATASET 데이터 로드\n",
    "try:\n",
    "    df = pd.read_csv('C:/Project1/crew_soom/data/raw/processed/ML_COMPLETE_DATASET.csv')\n",
    "    df['obs_date'] = pd.to_datetime(df['obs_date'])\n",
    "    print('데이터 로드 완료')\n",
    "except :\n",
    "    print('데이터 로드 실패')"
   ]
  },
  {
   "cell_type": "code",
   "execution_count": 7,
   "id": "547fe50d",
   "metadata": {},
   "outputs": [
    {
     "name": "stdout",
     "output_type": "stream",
     "text": [
      "<class 'pandas.core.frame.DataFrame'>\n",
      "RangeIndex: 933 entries, 0 to 932\n",
      "Data columns (total 24 columns):\n",
      " #   Column             Non-Null Count  Dtype         \n",
      "---  ------             --------------  -----         \n",
      " 0   id                 933 non-null    int64         \n",
      " 1   year               933 non-null    int64         \n",
      " 2   month              933 non-null    int64         \n",
      " 3   day                933 non-null    int64         \n",
      " 4   obs_date           933 non-null    datetime64[ns]\n",
      " 5   season_type        933 non-null    object        \n",
      " 6   avg_temp           933 non-null    float64       \n",
      " 7   min_temp           932 non-null    float64       \n",
      " 8   max_temp           933 non-null    float64       \n",
      " 9   humidity           933 non-null    float64       \n",
      " 10  precipitation      933 non-null    float64       \n",
      " 11  wind_speed         931 non-null    float64       \n",
      " 12  is_flood_risk      933 non-null    int64         \n",
      " 13  created_at         933 non-null    object        \n",
      " 14  actual_flood       933 non-null    int64         \n",
      " 15  is_peak_rainy      933 non-null    int64         \n",
      " 16  is_typhoon_season  933 non-null    int64         \n",
      " 17  is_early_rainy     933 non-null    int64         \n",
      " 18  precip_risk_level  933 non-null    int64         \n",
      " 19  precip_ma3         933 non-null    float64       \n",
      " 20  humidity_ma3       933 non-null    float64       \n",
      " 21  precip_ma7         933 non-null    float64       \n",
      " 22  humidity_ma7       933 non-null    float64       \n",
      " 23  rain_days_cumsum   933 non-null    int64         \n",
      "dtypes: datetime64[ns](1), float64(10), int64(11), object(2)\n",
      "memory usage: 175.1+ KB\n"
     ]
    }
   ],
   "source": [
    "df.info()"
   ]
  },
  {
   "cell_type": "code",
   "execution_count": 11,
   "id": "238b819e",
   "metadata": {},
   "outputs": [
    {
     "name": "stdout",
     "output_type": "stream",
     "text": [
      "실제 침수 사건 데이터 로드 완료\n"
     ]
    }
   ],
   "source": [
    "#실제 침수 사건 데이터 로드\n",
    "try:\n",
    "    df = pd.read_csv('C:/Project1/crew_soom/data/raw/flood_events/actual_flood_events_2022_2024.csv')\n",
    "    df['flood_date'] = pd.to_datetime(df['flood_date'])\n",
    "    print('실제 침수 사건 데이터 로드 완료')\n",
    "except:\n",
    "    print('데이터 로드 실패')"
   ]
  },
  {
   "cell_type": "markdown",
   "id": "e5c50cc2",
   "metadata": {},
   "source": [
    "# 데이터 로드 클래스"
   ]
  },
  {
   "cell_type": "code",
   "execution_count": 13,
   "id": "2a1b1996",
   "metadata": {},
   "outputs": [],
   "source": [
    "import pandas as pd\n",
    "import os\n",
    "\n",
    "class DataLoader:\n",
    "    def __init__(self): #객체 생성 시 자동 실행\n",
    "        self.data_path = { \n",
    "            'ml_data_load':'C:/Project1/crew_soom/data/raw/processed/ML_COMPLETE_DATASET.csv',\n",
    "            'flood_date_load':'C:/Project1/crew_soom/data/raw/flood_events/actual_flood_events_2022_2024.csv',\n",
    "            'daily_all_load':'C:/Project1/crew_soom/data/raw/daily/daily_all_3years.csv'\n",
    "        }\n",
    "    \n",
    "    def load_ml_ready_data(self): # ML_COMPLETE_DATASET 데이터 로드 메서드\n",
    "        try:\n",
    "            df = pd.read_csv(self.data_path['ml_data_load']) #딕셔너리의 'ml_data_load'키 가져오기\n",
    "            df['obs_date'] = pd.to_datetime(df['obs_date']) #'obs_date'를 datetime타입으로 변경\n",
    "            print(f\"✅ ML 데이터 로드: {len(df)}행\")\n",
    "            return df\n",
    "        except FileNotFoundError: #파일을 못 찾는 에러 발생 시\n",
    "            print(\"❌ ML_COMPLETE_DATASET.csv를 찾을 수 없습니다.\")\n",
    "            print(\"💡 STRATEGIC_FLOOD_DATA/4_ML_READY/에서 파일을 복사하세요.\")\n",
    "            return None\n",
    "        \n",
    "    def load_flood_event(self):\n",
    "        try:\n",
    "            df = pd.read_csv(self.data_path['flood_date_load']) #딕셔너리의 'flood_date_load'키 가져오기\n",
    "            df['flood_date'] = pd.to_datetime(df['flood_date']) #'flood_date'를 datetime타입으로 변경\n",
    "            print(f\"✅ 침수 사건 데이터 로드: {len(df)}건\")\n",
    "            return df\n",
    "        except FileNotFoundError: #파일을 못 찾는 에러 발생 시\n",
    "            print(\"❌ 침수 사건 데이터를 찾을 수 없습니다.\")\n",
    "            return None\n",
    "        \n",
    "    def get_data_info(self): #데이터 정보 반환\n",
    "        info = {} # 중첩 딕셔너리 구조({name:{},...})\n",
    "        for name, path in self.data_path.items(): #name, path:키, 값. data_path의 요소 반복\n",
    "            if os.path.exists(path):#path(파일 경로)가 존재할 때\n",
    "                try: #파일이 읽어질 경우\n",
    "                    df = pd.read_csv(path) #파일 읽어오기\n",
    "                    info[name] = {\n",
    "                        'exists': True,\n",
    "                        'rows' : len(df),\n",
    "                        'columns' : df.columns,\n",
    "                        'size_mb' : os.path.getsize(path)/1024/1024 # 파일 크기를 메가바이트(MB) 단위로 변환\n",
    "                    }\n",
    "                except : #파일이 읽어지지 않을 경우(오류)\n",
    "                    info[name] = {'exists':False}\n",
    "            else: #path가 존재하지 않을 때\n",
    "                info[name] = {'exists':False}\n",
    "        return info"
   ]
  },
  {
   "cell_type": "code",
   "execution_count": null,
   "id": "1d32d5c2",
   "metadata": {},
   "outputs": [],
   "source": []
  }
 ],
 "metadata": {
  "kernelspec": {
   "display_name": "ml-dl-nlp",
   "language": "python",
   "name": "ml-dl-nlp"
  },
  "language_info": {
   "codemirror_mode": {
    "name": "ipython",
    "version": 3
   },
   "file_extension": ".py",
   "mimetype": "text/x-python",
   "name": "python",
   "nbconvert_exporter": "python",
   "pygments_lexer": "ipython3",
   "version": "3.10.18"
  },
  "toc": {
   "base_numbering": 1,
   "nav_menu": {},
   "number_sections": false,
   "sideBar": true,
   "skip_h1_title": false,
   "title_cell": "Table of Contents",
   "title_sidebar": "Contents",
   "toc_cell": false,
   "toc_position": {},
   "toc_section_display": true,
   "toc_window_display": false
  }
 },
 "nbformat": 4,
 "nbformat_minor": 5
}
