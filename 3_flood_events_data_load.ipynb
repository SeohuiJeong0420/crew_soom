{
 "cells": [
  {
   "cell_type": "code",
   "execution_count": null,
   "id": "10a48247",
   "metadata": {},
   "outputs": [
    {
     "name": "stdout",
     "output_type": "stream",
     "text": [
      "컬럼 수 : 9\n"
     ]
    },
    {
     "data": {
      "text/html": [
       "<div>\n",
       "<style scoped>\n",
       "    .dataframe tbody tr th:only-of-type {\n",
       "        vertical-align: middle;\n",
       "    }\n",
       "\n",
       "    .dataframe tbody tr th {\n",
       "        vertical-align: top;\n",
       "    }\n",
       "\n",
       "    .dataframe thead th {\n",
       "        text-align: right;\n",
       "    }\n",
       "</style>\n",
       "<table border=\"1\" class=\"dataframe\">\n",
       "  <thead>\n",
       "    <tr style=\"text-align: right;\">\n",
       "      <th></th>\n",
       "      <th>id</th>\n",
       "      <th>district</th>\n",
       "      <th>flood_date</th>\n",
       "      <th>severity</th>\n",
       "      <th>precipitation_24h</th>\n",
       "      <th>precipitation_1h_max</th>\n",
       "      <th>description</th>\n",
       "      <th>source</th>\n",
       "      <th>created_at</th>\n",
       "    </tr>\n",
       "  </thead>\n",
       "  <tbody>\n",
       "    <tr>\n",
       "      <th>0</th>\n",
       "      <td>1</td>\n",
       "      <td>강남구</td>\n",
       "      <td>2022-08-08</td>\n",
       "      <td>4</td>\n",
       "      <td>381.5</td>\n",
       "      <td>91.8</td>\n",
       "      <td>강남역 일대 대침수</td>\n",
       "      <td>뉴스_공공데이터_실제사건</td>\n",
       "      <td>2025-06-30 14:50:59</td>\n",
       "    </tr>\n",
       "    <tr>\n",
       "      <th>1</th>\n",
       "      <td>2</td>\n",
       "      <td>영등포구</td>\n",
       "      <td>2022-08-09</td>\n",
       "      <td>3</td>\n",
       "      <td>295.2</td>\n",
       "      <td>54.3</td>\n",
       "      <td>여의도 침수</td>\n",
       "      <td>뉴스_공공데이터_실제사건</td>\n",
       "      <td>2025-06-30 14:50:59</td>\n",
       "    </tr>\n",
       "    <tr>\n",
       "      <th>2</th>\n",
       "      <td>3</td>\n",
       "      <td>강서구</td>\n",
       "      <td>2023-07-15</td>\n",
       "      <td>2</td>\n",
       "      <td>89.5</td>\n",
       "      <td>32.1</td>\n",
       "      <td>김포공항로 침수</td>\n",
       "      <td>뉴스_공공데이터_실제사건</td>\n",
       "      <td>2025-06-30 14:50:59</td>\n",
       "    </tr>\n",
       "    <tr>\n",
       "      <th>3</th>\n",
       "      <td>4</td>\n",
       "      <td>은평구</td>\n",
       "      <td>2023-08-10</td>\n",
       "      <td>2</td>\n",
       "      <td>142.3</td>\n",
       "      <td>45.6</td>\n",
       "      <td>불광동 침수</td>\n",
       "      <td>뉴스_공공데이터_실제사건</td>\n",
       "      <td>2025-06-30 14:50:59</td>\n",
       "    </tr>\n",
       "    <tr>\n",
       "      <th>4</th>\n",
       "      <td>5</td>\n",
       "      <td>중랑구</td>\n",
       "      <td>2024-06-28</td>\n",
       "      <td>2</td>\n",
       "      <td>67.2</td>\n",
       "      <td>23.1</td>\n",
       "      <td>상봉동 침수</td>\n",
       "      <td>뉴스_공공데이터_실제사건</td>\n",
       "      <td>2025-06-30 14:50:59</td>\n",
       "    </tr>\n",
       "  </tbody>\n",
       "</table>\n",
       "</div>"
      ],
      "text/plain": [
       "   id district  flood_date  severity  precipitation_24h  precipitation_1h_max  \\\n",
       "0   1      강남구  2022-08-08         4              381.5                  91.8   \n",
       "1   2     영등포구  2022-08-09         3              295.2                  54.3   \n",
       "2   3      강서구  2023-07-15         2               89.5                  32.1   \n",
       "3   4      은평구  2023-08-10         2              142.3                  45.6   \n",
       "4   5      중랑구  2024-06-28         2               67.2                  23.1   \n",
       "\n",
       "  description         source           created_at  \n",
       "0  강남역 일대 대침수  뉴스_공공데이터_실제사건  2025-06-30 14:50:59  \n",
       "1      여의도 침수  뉴스_공공데이터_실제사건  2025-06-30 14:50:59  \n",
       "2    김포공항로 침수  뉴스_공공데이터_실제사건  2025-06-30 14:50:59  \n",
       "3      불광동 침수  뉴스_공공데이터_실제사건  2025-06-30 14:50:59  \n",
       "4      상봉동 침수  뉴스_공공데이터_실제사건  2025-06-30 14:50:59  "
      ]
     },
     "execution_count": 1,
     "metadata": {},
     "output_type": "execute_result"
    }
   ],
   "source": [
    "import pandas as pd\n",
    "#실제 침수 사건 데이터(전체)\n",
    "actual_flood_events_2022_2024_data = pd.read_csv('C:/ai_x/source/Project/3_FLOOD_EVENTS/actual_flood_events_2022_2024.csv')\n",
    "print('컬럼 수 :', len(actual_flood_events_2022_2024_data.columns))\n",
    "actual_flood_events_2022_2024_data.head()"
   ]
  },
  {
   "cell_type": "code",
   "execution_count": null,
   "id": "6175e6af",
   "metadata": {},
   "outputs": [
    {
     "data": {
      "text/plain": [
       "id                      0\n",
       "district                0\n",
       "flood_date              0\n",
       "severity                0\n",
       "precipitation_24h       0\n",
       "precipitation_1h_max    0\n",
       "description             0\n",
       "source                  0\n",
       "created_at              0\n",
       "dtype: int64"
      ]
     },
     "execution_count": 2,
     "metadata": {},
     "output_type": "execute_result"
    }
   ],
   "source": [
    "actual_flood_events_2022_2024_data.isna().sum() #결측치 없음"
   ]
  },
  {
   "cell_type": "code",
   "execution_count": null,
   "id": "4986c910",
   "metadata": {},
   "outputs": [
    {
     "name": "stdout",
     "output_type": "stream",
     "text": [
      "컬럼 수 : 2\n"
     ]
    },
    {
     "data": {
      "text/html": [
       "<div>\n",
       "<style scoped>\n",
       "    .dataframe tbody tr th:only-of-type {\n",
       "        vertical-align: middle;\n",
       "    }\n",
       "\n",
       "    .dataframe tbody tr th {\n",
       "        vertical-align: top;\n",
       "    }\n",
       "\n",
       "    .dataframe thead th {\n",
       "        text-align: right;\n",
       "    }\n",
       "</style>\n",
       "<table border=\"1\" class=\"dataframe\">\n",
       "  <thead>\n",
       "    <tr style=\"text-align: right;\">\n",
       "      <th></th>\n",
       "      <th>district</th>\n",
       "      <th>flood_count</th>\n",
       "    </tr>\n",
       "  </thead>\n",
       "  <tbody>\n",
       "    <tr>\n",
       "      <th>0</th>\n",
       "      <td>강남구</td>\n",
       "      <td>1</td>\n",
       "    </tr>\n",
       "    <tr>\n",
       "      <th>1</th>\n",
       "      <td>강서구</td>\n",
       "      <td>1</td>\n",
       "    </tr>\n",
       "    <tr>\n",
       "      <th>2</th>\n",
       "      <td>광진구</td>\n",
       "      <td>1</td>\n",
       "    </tr>\n",
       "    <tr>\n",
       "      <th>3</th>\n",
       "      <td>도봉구</td>\n",
       "      <td>1</td>\n",
       "    </tr>\n",
       "    <tr>\n",
       "      <th>4</th>\n",
       "      <td>성북구</td>\n",
       "      <td>1</td>\n",
       "    </tr>\n",
       "  </tbody>\n",
       "</table>\n",
       "</div>"
      ],
      "text/plain": [
       "  district  flood_count\n",
       "0      강남구            1\n",
       "1      강서구            1\n",
       "2      광진구            1\n",
       "3      도봉구            1\n",
       "4      성북구            1"
      ]
     },
     "execution_count": 3,
     "metadata": {},
     "output_type": "execute_result"
    }
   ],
   "source": [
    "#구별 사건 발생수\n",
    "flood_count_by_district_data = pd.read_csv('C:/ai_x/source/Project/3_FLOOD_EVENTS/flood_count_by_district.csv')\n",
    "print('컬럼 수 :', len(flood_count_by_district_data.columns))\n",
    "flood_count_by_district_data.head()"
   ]
  },
  {
   "cell_type": "code",
   "execution_count": null,
   "id": "9c669753",
   "metadata": {},
   "outputs": [
    {
     "data": {
      "text/plain": [
       "district       0\n",
       "flood_count    0\n",
       "dtype: int64"
      ]
     },
     "execution_count": 4,
     "metadata": {},
     "output_type": "execute_result"
    }
   ],
   "source": [
    "flood_count_by_district_data.isna().sum() #결측치 없음"
   ]
  },
  {
   "cell_type": "code",
   "execution_count": 5,
   "id": "4b220133",
   "metadata": {},
   "outputs": [
    {
     "data": {
      "text/plain": [
       "<bound method DataFrame.value_counts of   district  flood_count\n",
       "0      강남구            1\n",
       "1      강서구            1\n",
       "2      광진구            1\n",
       "3      도봉구            1\n",
       "4      성북구            1\n",
       "5      송파구            1\n",
       "6     영등포구            1\n",
       "7      은평구            1\n",
       "8      중랑구            1>"
      ]
     },
     "execution_count": 5,
     "metadata": {},
     "output_type": "execute_result"
    }
   ],
   "source": [
    "flood_count_by_district_data.value_counts"
   ]
  },
  {
   "cell_type": "code",
   "execution_count": null,
   "id": "f7891e29",
   "metadata": {},
   "outputs": [],
   "source": []
  }
 ],
 "metadata": {
  "kernelspec": {
   "display_name": "base",
   "language": "python",
   "name": "python3"
  },
  "language_info": {
   "codemirror_mode": {
    "name": "ipython",
    "version": 3
   },
   "file_extension": ".py",
   "mimetype": "text/x-python",
   "name": "python",
   "nbconvert_exporter": "python",
   "pygments_lexer": "ipython3",
   "version": "3.10.9"
  }
 },
 "nbformat": 4,
 "nbformat_minor": 5
}
