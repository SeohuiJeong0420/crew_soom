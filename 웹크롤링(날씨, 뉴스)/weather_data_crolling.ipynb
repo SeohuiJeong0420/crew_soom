{
 "cells": [
  {
   "cell_type": "markdown",
   "id": "369285f7",
   "metadata": {},
   "source": [
    "# 데이터 로드"
   ]
  },
  {
   "cell_type": "code",
   "execution_count": 2,
   "id": "f12fecb5",
   "metadata": {},
   "outputs": [],
   "source": [
    "import requests\n",
    "from bs4 import BeautifulSoup\n",
    "import pandas as pd\n",
    "from datetime import datetime\n",
    "import re"
   ]
  },
  {
   "cell_type": "code",
   "execution_count": 7,
   "id": "ba58a300",
   "metadata": {},
   "outputs": [],
   "source": [
    "def getweather_data(city=\"서울\"):\n",
    "    try:\n",
    "        print(\"=== 🌤️  간단한 날씨 확인 ===\")\n",
    "        \n",
    "        # 방법 1: 기상청 RSS\n",
    "        try:\n",
    "            url = \"http://www.weather.go.kr/weather/forecast/mid-term-rss3.jsp?stnId=109\"\n",
    "            response = requests.get(url, timeout=5)\n",
    "            soup = BeautifulSoup(response.text, 'xml')\n",
    "            \n",
    "            if soup.find('item'):\n",
    "                title = soup.find('title').text if soup.find('title') else \"기상청 정보\"\n",
    "                description = soup.find('description').text if soup.find('description') else \"상세 정보 없음\"\n",
    "                \n",
    "                print(f\"📡 기상청: {title}\")\n",
    "                print(f\"📝 상세: {description[:100]}...\")\n",
    "                return True\n",
    "        except:\n",
    "            pass\n",
    "        \n",
    "    except Exception as e:\n",
    "        print(f\"대안 날씨 정보 오류: {e}\")\n",
    "        return False"
   ]
  },
  {
   "cell_type": "code",
   "execution_count": 8,
   "id": "cbc4cd7f",
   "metadata": {},
   "outputs": [
    {
     "name": "stdout",
     "output_type": "stream",
     "text": [
      "=== 🌤️  간단한 날씨 확인 ===\n"
     ]
    }
   ],
   "source": [
    "getweather_data()"
   ]
  },
  {
   "cell_type": "code",
   "execution_count": null,
   "id": "265f68a1",
   "metadata": {},
   "outputs": [],
   "source": [
    "def save_to_excel(weather_data):\n",
    "    \"\"\"엑셀 파일로 저장\"\"\"\n",
    "    if weather_data:\n",
    "        df = pd.DataFrame([weather_data])\n",
    "        filename = f\"서울날씨_{datetime.now().strftime('%Y%m%d_%H%M%S')}.xlsx\"\n",
    "        df.to_excel(filename, index=False)\n",
    "        print(f\"💾 날씨 데이터가 '{filename}'에 저장되었습니다.\")\n",
    "        return filename\n",
    "    return None"
   ]
  }
 ],
 "metadata": {
  "kernelspec": {
   "display_name": "base",
   "language": "python",
   "name": "python3"
  },
  "language_info": {
   "codemirror_mode": {
    "name": "ipython",
    "version": 3
   },
   "file_extension": ".py",
   "mimetype": "text/x-python",
   "name": "python",
   "nbconvert_exporter": "python",
   "pygments_lexer": "ipython3",
   "version": "3.10.9"
  }
 },
 "nbformat": 4,
 "nbformat_minor": 5
}
