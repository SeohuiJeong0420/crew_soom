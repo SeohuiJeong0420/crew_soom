{
 "cells": [
  {
   "cell_type": "markdown",
   "id": "369285f7",
   "metadata": {},
   "source": [
    "# 데이터 로드"
   ]
  },
  {
   "cell_type": "code",
   "execution_count": 108,
   "id": "f12fecb5",
   "metadata": {},
   "outputs": [],
   "source": [
    "import requests\n",
    "from bs4 import BeautifulSoup\n",
    "import json\n",
    "import time\n",
    "from dotenv import load_dotenv\n",
    "import os\n",
    "from datetime import datetime\n",
    "import pandas as pd"
   ]
  },
  {
   "cell_type": "code",
   "execution_count": 109,
   "id": "ba58a300",
   "metadata": {},
   "outputs": [],
   "source": [
    "def get_today_weather_data():\n",
    "    \"\"\"네이버에서 서울 오늘 날씨 크롤링\"\"\"\n",
    "    \n",
    "    url = \"https://search.naver.com/search.naver\"\n",
    "    params = {'query': '서울 날씨'}\n",
    "    \n",
    "    headers = {\n",
    "        'User-Agent': 'Mozilla/5.0 (Windows NT 10.0; Win64; x64) AppleWebKit/537.36'\n",
    "    }\n",
    "    \n",
    "    try:\n",
    "        response = requests.get(url, params=params, headers=headers)\n",
    "        soup = BeautifulSoup(response.text, 'html.parser')\n",
    "        \n",
    "        # 날씨 데이터 추출\n",
    "        weather_data = {\n",
    "            '날짜': datetime.now().strftime(\"%Y년 %m월 %d일\"),\n",
    "            '지역': '서울'\n",
    "        }\n",
    "        \n",
    "        # 현재 온도\n",
    "        temp_element = soup.select_one('.temperature_text')\n",
    "        if temp_element:\n",
    "            weather_data['현재온도'] = temp_element.get_text().strip()\n",
    "        else:\n",
    "            weather_data['현재온도'] = \"정보 없음\"\n",
    "        \n",
    "        # 날씨 상태\n",
    "        weather_element = soup.select_one('.summary_list .sort')\n",
    "        if weather_element:\n",
    "            weather_data['날씨상태'] = weather_element.get_text().strip()\n",
    "        else:\n",
    "            weather_data['날씨상태'] = \"정보 없음\"\n",
    "        \n",
    "        # 날씨 상태 (비, 눈, 흐림 등)\n",
    "        weather_before_slash = soup.select_one('.weather.before_slash')\n",
    "        if weather_before_slash:\n",
    "            weather_data['날씨상세'] = weather_before_slash.get_text().strip()\n",
    "        else:\n",
    "            weather_data['날씨상세'] = \"정보 없음\"\n",
    "        \n",
    "        # 미세먼지\n",
    "        dust_elements = soup.select('.today_chart_list .item_today')\n",
    "        for element in dust_elements:\n",
    "            text = element.get_text()\n",
    "            if '미세먼지' in text and '초미세먼지' not in text:\n",
    "                weather_data['미세먼지'] = element.select_one('.txt').get_text().strip()\n",
    "            elif '초미세먼지' in text:\n",
    "                weather_data['초미세먼지'] = element.select_one('.txt').get_text().strip()\n",
    "        \n",
    "        # 기본값 설정\n",
    "        if '미세먼지' not in weather_data:\n",
    "            weather_data['미세먼지'] = \"정보 없음\"\n",
    "        if '초미세먼지' not in weather_data:\n",
    "            weather_data['초미세먼지'] = \"정보 없음\"\n",
    "        \n",
    "        print(\" 날씨 크롤링 성공!\")\n",
    "        return weather_data\n",
    "        \n",
    "    except Exception as e:\n",
    "        print(f\" 크롤링 실패: {e}\")\n",
    "        return None"
   ]
  },
  {
   "cell_type": "code",
   "execution_count": 110,
   "id": "cbc4cd7f",
   "metadata": {},
   "outputs": [
    {
     "name": "stdout",
     "output_type": "stream",
     "text": [
      " 날씨 크롤링 성공!\n"
     ]
    },
    {
     "data": {
      "text/plain": [
       "{'날짜': '2025년 07월 16일',\n",
       " '지역': '서울',\n",
       " '현재온도': '현재 온도23.0°',\n",
       " '날씨상태': '체감 25.6°',\n",
       " '날씨상세': '비',\n",
       " '미세먼지': '좋음',\n",
       " '초미세먼지': '좋음'}"
      ]
     },
     "execution_count": 110,
     "metadata": {},
     "output_type": "execute_result"
    }
   ],
   "source": [
    "get_today_weather_data()"
   ]
  },
  {
   "cell_type": "code",
   "execution_count": 116,
   "id": "265f68a1",
   "metadata": {},
   "outputs": [],
   "source": [
    "def save_today_weather(weather_data):\n",
    "    \"\"\"오늘 날씨를 고정 파일명으로 업데이트\"\"\"\n",
    "    \n",
    "    filename = \"오늘날씨.xlsx\"  # 항상 같은 파일명\n",
    "    \n",
    "    if weather_data:\n",
    "        # 새 데이터를 DataFrame으로 변환\n",
    "        df = pd.DataFrame([weather_data])\n",
    "        \n",
    "        # 기존 파일 덮어쓰기 (매일 새로운 내용으로 교체)\n",
    "        df.to_excel('today_data/오늘날씨.xlsx', index=False)\n",
    "        \n",
    "        print(f\"오늘 날씨 업데이트 완료!\")\n",
    "        print(f\"파일: {filename}\")\n",
    "        print(f\"날짜: {weather_data['날짜']}\")\n",
    "        print(f\"온도: {weather_data['현재온도']}\")\n",
    "        \n",
    "        return filename\n",
    "    else:\n",
    "        print(\"저장할 날씨 데이터가 없습니다.\")\n",
    "        return None"
   ]
  },
  {
   "cell_type": "code",
   "execution_count": 117,
   "id": "6c77de52",
   "metadata": {},
   "outputs": [
    {
     "name": "stdout",
     "output_type": "stream",
     "text": [
      " 날씨 크롤링 성공!\n",
      "오늘 날씨 업데이트 완료!\n",
      "파일: 오늘날씨.xlsx\n",
      "날짜: 2025년 07월 16일\n",
      "온도: 현재 온도22.7°\n"
     ]
    },
    {
     "data": {
      "text/plain": [
       "'오늘날씨.xlsx'"
      ]
     },
     "execution_count": 117,
     "metadata": {},
     "output_type": "execute_result"
    }
   ],
   "source": [
    "save_today_weather(weather_data=get_today_weather_data())"
   ]
  },
  {
   "cell_type": "code",
   "execution_count": 118,
   "id": "d3945890",
   "metadata": {},
   "outputs": [],
   "source": [
    "def save_weather_with_backup(weather_data):\n",
    "    \"\"\"백업 포함 업데이트\"\"\"\n",
    "    \n",
    "    filename = \"오늘날씨.xlsx\"\n",
    "    \n",
    "    if weather_data:\n",
    "        # 기존 파일이 있으면 백업\n",
    "        if os.path.exists(filename):\n",
    "            backup_time = datetime.now().strftime(\"%Y%m%d\")\n",
    "            backup_name = f\"어제날씨_{backup_time}.xlsx\"\n",
    "            \n",
    "            # 어제 파일을 백업으로 이름 변경\n",
    "            try:\n",
    "                import shutil\n",
    "                shutil.copy(filename, backup_name)\n",
    "                print(f\"어제 날씨 백업: {backup_name}\")\n",
    "            except:\n",
    "                pass\n",
    "        \n",
    "        # 오늘 날씨로 덮어쓰기\n",
    "        df = pd.DataFrame([weather_data])\n",
    "        df.to_excel(filename, index=False)\n",
    "        \n",
    "        print(f\"오늘 날씨 업데이트!\")\n",
    "        print(f\"{weather_data['날짜']} - {weather_data['현재온도']}\")\n",
    "        \n",
    "        return filename\n",
    "    \n",
    "    return None\n"
   ]
  },
  {
   "cell_type": "code",
   "execution_count": 119,
   "id": "7b7a5d2d",
   "metadata": {},
   "outputs": [],
   "source": [
    "def update_today_weather():\n",
    "    \"\"\"매일 실행하는 함수\"\"\"\n",
    "    \n",
    "    # 날씨 크롤링 (기존 함수 사용)\n",
    "    weather_data = get_today_weather_data()\n",
    "    \n",
    "    if weather_data:\n",
    "        # 파일 업데이트\n",
    "        save_today_weather(weather_data)\n",
    "        \n",
    "        print(\"\\n 업데이트 완료!\")\n",
    "        print(\"매일 같은 파일이 오늘 날씨로 갱신됩니다.\")\n",
    "    else:\n",
    "        print(\"날씨 크롤링 실패\")"
   ]
  },
  {
   "cell_type": "code",
   "execution_count": 120,
   "id": "990ef930",
   "metadata": {},
   "outputs": [
    {
     "name": "stdout",
     "output_type": "stream",
     "text": [
      " 날씨 크롤링 성공!\n",
      "오늘 날씨 업데이트 완료!\n",
      "파일: 오늘날씨.xlsx\n",
      "날짜: 2025년 07월 16일\n",
      "온도: 현재 온도22.7°\n",
      "\n",
      " 업데이트 완료!\n",
      "매일 같은 파일이 오늘 날씨로 갱신됩니다.\n"
     ]
    }
   ],
   "source": [
    "if __name__ == \"__main__\":\n",
    "    update_today_weather()"
   ]
  },
  {
   "cell_type": "code",
   "execution_count": null,
   "id": "7f08e5d3",
   "metadata": {},
   "outputs": [],
   "source": []
  }
 ],
 "metadata": {
  "kernelspec": {
   "display_name": "base",
   "language": "python",
   "name": "python3"
  },
  "language_info": {
   "codemirror_mode": {
    "name": "ipython",
    "version": 3
   },
   "file_extension": ".py",
   "mimetype": "text/x-python",
   "name": "python",
   "nbconvert_exporter": "python",
   "pygments_lexer": "ipython3",
   "version": "3.10.9"
  }
 },
 "nbformat": 4,
 "nbformat_minor": 5
}
